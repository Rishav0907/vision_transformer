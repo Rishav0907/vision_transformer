{
 "cells": [
  {
   "cell_type": "markdown",
   "id": "94bf64b3-5388-44ad-b2a1-f1498fed59c1",
   "metadata": {},
   "source": [
    "# Vision Transformer using Pytorch"
   ]
  },
  {
   "cell_type": "code",
   "execution_count": 69,
   "id": "36886ec7-d2f8-4bc2-8352-2c7ab3d95cd9",
   "metadata": {},
   "outputs": [],
   "source": [
    "import torch\n",
    "import torch.nn as nn\n",
    "import torchvision.datasets as dataset\n",
    "from torch.utils.data import DataLoader\n",
    "from torchvision.transforms import transforms"
   ]
  },
  {
   "cell_type": "code",
   "execution_count": 70,
   "id": "dfdafd16-acfe-4f43-9b23-9aa537337a0b",
   "metadata": {},
   "outputs": [],
   "source": [
    "class ImageClassification(nn.Module):\n",
    "    def __init__(self, input_dim, num_classes):\n",
    "        super().__init__()\n",
    "        # self.fc1 = nn.Linear(input_dim, 512)\n",
    "        # self.fc2 = nn.Linear(512, num_classes)\n",
    "        # self.relu = nn.ReLU()\n",
    "        self.neuralNetwork=nn.Sequential(nn.Linear(input_dim,512),\n",
    "                                         nn.ReLU(),\n",
    "                                         nn.Linear(512,num_classes)\n",
    "                                        )\n",
    "                                         \n",
    "    def forward(self, x):\n",
    "        return torch.softmax(self.neuralNetwork(x),dim=1)"
   ]
  },
  {
   "cell_type": "code",
   "execution_count": 96,
   "id": "7f660b8c-d857-4eaf-baba-7f05051dd42b",
   "metadata": {},
   "outputs": [],
   "source": [
    "class VisionTransformer(nn.Module):\n",
    "    def __init__(self,patch_size,output_dimension,num_of_encoder_layers,embed_dims):\n",
    "        super().__init__()\n",
    "        self.patch_size=patch_size\n",
    "        self.linear_output_dimesnion=output_dimension\n",
    "        self.num_of_encoder_layers=num_of_encoder_layers\n",
    "        self.embed_dims=embed_dims\n",
    "        self.num_heads=8\n",
    "        # patch extractor\n",
    "        self.unfold=nn.Unfold(kernel_size=self.patch_size,stride=self.patch_size)\n",
    "\n",
    "        # making each patch linear\n",
    "        self.linear=nn.Linear(self.patch_size*self.patch_size*3,output_dimension)\n",
    "        self.encoder_layer=nn.TransformerEncoderLayer( d_model=self.embed_dims, nhead=self.num_heads, dim_feedforward=2048)\n",
    "        self.transformer_encoder=nn.TransformerEncoder(self.encoder_layer,num_layers=self.num_of_encoder_layers)\n",
    "\n",
    "        self.classifier = ImageClassification(self.embed_dims, 10)\n",
    "\n",
    "    def forward(self,input_image):\n",
    "        # print(input_image)\n",
    "        batch_size,channel,height,width=input_image.shape\n",
    "        patched_image=self.unfold(input_image).permute(0,2,1)\n",
    "        # print(patched_image.shape)\n",
    "        linear_embeddings=self.linear(patched_image)\n",
    "        encoder_output=self.transformer_encoder(linear_embeddings)\n",
    "        mean_encoder_output=torch.mean(encoder_output,dim=1)\n",
    "        output = self.classifier(mean_encoder_output)\n",
    "\n",
    "        return output"
   ]
  },
  {
   "cell_type": "code",
   "execution_count": 97,
   "id": "e8f9b36f-a1df-4ddb-8956-3afcfe66fef1",
   "metadata": {},
   "outputs": [],
   "source": [
    "# import torch\n",
    "# import torch.nn as nn\n",
    "\n",
    "# class VisionTransformer(nn.Module):\n",
    "#     def __init__(self, patch_size, output_dimension, num_of_encoder_layers, embed_dims, num_heads, num_classes):\n",
    "#         super().__init__()\n",
    "#         self.patch_size = patch_size\n",
    "#         self.linear_output_dimension = output_dimension\n",
    "#         self.num_of_encoder_layers = num_of_encoder_layers\n",
    "#         self.embed_dims = embed_dims\n",
    "#         self.num_heads = num_heads\n",
    "        \n",
    "#         # Patch extractor\n",
    "#         self.unfold = nn.Unfold(kernel_size=self.patch_size, stride=self.patch_size)\n",
    "\n",
    "#         # Linear layer to map patches to embeddings\n",
    "#         self.linear = nn.Linear(self.patch_size * self.patch_size * 3, embed_dims)\n",
    "\n",
    "#         # Transformer Encoder\n",
    "#         encoder_layer = nn.TransformerEncoderLayer(d_model=embed_dims, nhead=num_heads, dim_feedforward=2048)\n",
    "#         self.transformer_encoder = nn.TransformerEncoder(encoder_layer, num_layers=num_of_encoder_layers)\n",
    "\n",
    "#         # Classification head (3-layer neural network)\n",
    "#         self.classifier = nn.Sequential(\n",
    "#             nn.Linear(embed_dims, 512),\n",
    "#             nn.ReLU(),\n",
    "#             nn.Linear(512, 256),\n",
    "#             nn.ReLU(),\n",
    "#             nn.Linear(256, num_classes)\n",
    "#         )\n",
    "\n",
    "#     def forward(self, input_image):\n",
    "#         batch_size, channels, height, width = input_image.shape\n",
    "\n",
    "#         # Extract patches\n",
    "#         patches = self.unfold(input_image).permute(0, 2, 1)  # [batch_size, num_patches, patch_dim]\n",
    "\n",
    "#         # Map patches to embeddings\n",
    "#         embeddings = self.linear(patches)\n",
    "\n",
    "#         # Rearrange embeddings to [seq_len, batch_size, embed_dims]\n",
    "#         embeddings = embeddings.view(batch_size, -1, self.embed_dims).permute(1, 0, 2)\n",
    "\n",
    "#         # Transformer Encoder\n",
    "#         encoder_output = self.transformer_encoder(embeddings)\n",
    "\n",
    "#         # Take the mean across patches\n",
    "#         mean_encoder_output = torch.mean(encoder_output, dim=0)\n",
    "\n",
    "#         # Classification\n",
    "#         output = self.classifier(mean_encoder_output)\n",
    "\n",
    "#         return output\n"
   ]
  },
  {
   "cell_type": "code",
   "execution_count": 98,
   "id": "f0fa51e2-6c3b-4168-b231-bdc9294ac8db",
   "metadata": {},
   "outputs": [
    {
     "name": "stdout",
     "output_type": "stream",
     "text": [
      "Files already downloaded and verified\n",
      "Files already downloaded and verified\n"
     ]
    }
   ],
   "source": [
    "import torchvision\n",
    "import torch.nn.functional as F\n",
    "train_data=dataset.CIFAR10(\n",
    "    'train_data',\n",
    "    transform=transform,\n",
    "    target_transform=torchvision.transforms.Compose([\n",
    "                                 lambda x:torch.LongTensor([x]), # or just torch.tensor\n",
    "                                 lambda x:F.one_hot(x,10)]),\n",
    "    # target_transform=Lambda(lambda y: torch.zeros(10, dtype=torch.float).scatter_(0, torch.tensor(y), value=1))\n",
    "    train=True,\n",
    "    download=True\n",
    ")\n",
    "\n",
    "test_data=dataset.CIFAR10(\n",
    "    'test_data',\n",
    "    train=False,\n",
    "    download=True,\n",
    "    transform=transform,\n",
    "    target_transform=torchvision.transforms.Compose([\n",
    "                                 lambda x:torch.LongTensor([x]), # or just torch.tensor\n",
    "                                 lambda x:F.one_hot(x,10)])\n",
    ")\n",
    "torch.cuda.set_device(2)\n",
    "device=torch.device(\"cuda\" if torch.cuda.is_available() else \"cpu\")"
   ]
  },
  {
   "cell_type": "code",
   "execution_count": 99,
   "id": "fbca9268-f166-4438-86df-98017a5cff4b",
   "metadata": {},
   "outputs": [],
   "source": [
    "BATCH_SIZE=64\n",
    "train_dataloader=DataLoader(train_data,batch_size=BATCH_SIZE,shuffle=True,pin_memory=True)\n",
    "test_dataloader=DataLoader(test_data,batch_size=BATCH_SIZE,shuffle=True,pin_memory=True)"
   ]
  },
  {
   "cell_type": "code",
   "execution_count": 100,
   "id": "ad32c9ce-11ac-4a34-b709-d866973ceeaa",
   "metadata": {},
   "outputs": [],
   "source": [
    "# sample=next(iter(train_dataloader))\n",
    "# image=sample[0][0]\n",
    "# label=sample[1][0]\n",
    "# import matplotlib.pyplot as plt\n",
    "# plt.imshow(np.transpose(image,(1,2,0)))"
   ]
  },
  {
   "cell_type": "code",
   "execution_count": 101,
   "id": "29f2df41-5cac-46e2-b08d-c92f42ae8de8",
   "metadata": {},
   "outputs": [],
   "source": [
    "image=image.unsqueeze(0)"
   ]
  },
  {
   "cell_type": "code",
   "execution_count": 102,
   "id": "f84a34b6-49b5-486e-a45c-d6abfacbd16f",
   "metadata": {},
   "outputs": [
    {
     "data": {
      "text/plain": [
       "'NVIDIA GeForce RTX 3090'"
      ]
     },
     "execution_count": 102,
     "metadata": {},
     "output_type": "execute_result"
    }
   ],
   "source": [
    "torch.cuda.get_device_name()"
   ]
  },
  {
   "cell_type": "code",
   "execution_count": 104,
   "id": "9c78a6ff-b914-459d-ba83-300c84d2f2f9",
   "metadata": {},
   "outputs": [
    {
     "ename": "RuntimeError",
     "evalue": "mat1 and mat2 shapes cannot be multiplied (64x10 and 256x512)",
     "output_type": "error",
     "traceback": [
      "\u001b[0;31m---------------------------------------------------------------------------\u001b[0m",
      "\u001b[0;31mRuntimeError\u001b[0m                              Traceback (most recent call last)",
      "Cell \u001b[0;32mIn[104], line 59\u001b[0m\n\u001b[1;32m     44\u001b[0m         \u001b[38;5;28mprint\u001b[39m(\u001b[38;5;124mf\u001b[39m\u001b[38;5;124m\"\u001b[39m\u001b[38;5;124mEpoch [\u001b[39m\u001b[38;5;132;01m{\u001b[39;00mepoch\u001b[38;5;241m+\u001b[39m\u001b[38;5;241m1\u001b[39m\u001b[38;5;132;01m}\u001b[39;00m\u001b[38;5;124m/\u001b[39m\u001b[38;5;132;01m{\u001b[39;00mEPOCHS\u001b[38;5;132;01m}\u001b[39;00m\u001b[38;5;124m], Loss: \u001b[39m\u001b[38;5;132;01m{\u001b[39;00mepoch_loss\u001b[38;5;132;01m:\u001b[39;00m\u001b[38;5;124m.4f\u001b[39m\u001b[38;5;132;01m}\u001b[39;00m\u001b[38;5;124m\"\u001b[39m)\n\u001b[1;32m     45\u001b[0m \u001b[38;5;66;03m# def test():\u001b[39;00m\n\u001b[1;32m     46\u001b[0m \u001b[38;5;66;03m#     transformer.eval()\u001b[39;00m\n\u001b[1;32m     47\u001b[0m \u001b[38;5;66;03m#     correct = 0\u001b[39;00m\n\u001b[0;32m   (...)\u001b[0m\n\u001b[1;32m     57\u001b[0m \u001b[38;5;66;03m#     accuracy = correct / total\u001b[39;00m\n\u001b[1;32m     58\u001b[0m \u001b[38;5;66;03m#     print(f\"Test Accuracy: {accuracy:.4f}\")\u001b[39;00m\n\u001b[0;32m---> 59\u001b[0m \u001b[43mtrain\u001b[49m\u001b[43m(\u001b[49m\u001b[43m)\u001b[49m\n\u001b[1;32m     60\u001b[0m \u001b[38;5;66;03m# print(nn.Embedding(1,res))\u001b[39;00m\n\u001b[1;32m     61\u001b[0m \u001b[38;5;66;03m# classifier=ImageClassification(\u001b[39;00m\n\u001b[1;32m     62\u001b[0m \u001b[38;5;66;03m# res= res.view(BATCH_SIZE, 3, 4, 4, -1).permute(0, 4, 1, 2, 3)\u001b[39;00m\n",
      "Cell \u001b[0;32mIn[104], line 38\u001b[0m, in \u001b[0;36mtrain\u001b[0;34m()\u001b[0m\n\u001b[1;32m     36\u001b[0m optimizer\u001b[38;5;241m.\u001b[39mzero_grad()\n\u001b[1;32m     37\u001b[0m output \u001b[38;5;241m=\u001b[39m transformer(input_data)\n\u001b[0;32m---> 38\u001b[0m output \u001b[38;5;241m=\u001b[39m \u001b[43mimage_classifier\u001b[49m\u001b[43m(\u001b[49m\u001b[43moutput\u001b[49m\u001b[43m)\u001b[49m\n\u001b[1;32m     39\u001b[0m loss \u001b[38;5;241m=\u001b[39m criterion(output, labels)\n\u001b[1;32m     40\u001b[0m loss\u001b[38;5;241m.\u001b[39mbackward()\n",
      "File \u001b[0;32m~/miniconda3/lib/python3.11/site-packages/torch/nn/modules/module.py:1511\u001b[0m, in \u001b[0;36mModule._wrapped_call_impl\u001b[0;34m(self, *args, **kwargs)\u001b[0m\n\u001b[1;32m   1509\u001b[0m     \u001b[38;5;28;01mreturn\u001b[39;00m \u001b[38;5;28mself\u001b[39m\u001b[38;5;241m.\u001b[39m_compiled_call_impl(\u001b[38;5;241m*\u001b[39margs, \u001b[38;5;241m*\u001b[39m\u001b[38;5;241m*\u001b[39mkwargs)  \u001b[38;5;66;03m# type: ignore[misc]\u001b[39;00m\n\u001b[1;32m   1510\u001b[0m \u001b[38;5;28;01melse\u001b[39;00m:\n\u001b[0;32m-> 1511\u001b[0m     \u001b[38;5;28;01mreturn\u001b[39;00m \u001b[38;5;28;43mself\u001b[39;49m\u001b[38;5;241;43m.\u001b[39;49m\u001b[43m_call_impl\u001b[49m\u001b[43m(\u001b[49m\u001b[38;5;241;43m*\u001b[39;49m\u001b[43margs\u001b[49m\u001b[43m,\u001b[49m\u001b[43m \u001b[49m\u001b[38;5;241;43m*\u001b[39;49m\u001b[38;5;241;43m*\u001b[39;49m\u001b[43mkwargs\u001b[49m\u001b[43m)\u001b[49m\n",
      "File \u001b[0;32m~/miniconda3/lib/python3.11/site-packages/torch/nn/modules/module.py:1520\u001b[0m, in \u001b[0;36mModule._call_impl\u001b[0;34m(self, *args, **kwargs)\u001b[0m\n\u001b[1;32m   1515\u001b[0m \u001b[38;5;66;03m# If we don't have any hooks, we want to skip the rest of the logic in\u001b[39;00m\n\u001b[1;32m   1516\u001b[0m \u001b[38;5;66;03m# this function, and just call forward.\u001b[39;00m\n\u001b[1;32m   1517\u001b[0m \u001b[38;5;28;01mif\u001b[39;00m \u001b[38;5;129;01mnot\u001b[39;00m (\u001b[38;5;28mself\u001b[39m\u001b[38;5;241m.\u001b[39m_backward_hooks \u001b[38;5;129;01mor\u001b[39;00m \u001b[38;5;28mself\u001b[39m\u001b[38;5;241m.\u001b[39m_backward_pre_hooks \u001b[38;5;129;01mor\u001b[39;00m \u001b[38;5;28mself\u001b[39m\u001b[38;5;241m.\u001b[39m_forward_hooks \u001b[38;5;129;01mor\u001b[39;00m \u001b[38;5;28mself\u001b[39m\u001b[38;5;241m.\u001b[39m_forward_pre_hooks\n\u001b[1;32m   1518\u001b[0m         \u001b[38;5;129;01mor\u001b[39;00m _global_backward_pre_hooks \u001b[38;5;129;01mor\u001b[39;00m _global_backward_hooks\n\u001b[1;32m   1519\u001b[0m         \u001b[38;5;129;01mor\u001b[39;00m _global_forward_hooks \u001b[38;5;129;01mor\u001b[39;00m _global_forward_pre_hooks):\n\u001b[0;32m-> 1520\u001b[0m     \u001b[38;5;28;01mreturn\u001b[39;00m \u001b[43mforward_call\u001b[49m\u001b[43m(\u001b[49m\u001b[38;5;241;43m*\u001b[39;49m\u001b[43margs\u001b[49m\u001b[43m,\u001b[49m\u001b[43m \u001b[49m\u001b[38;5;241;43m*\u001b[39;49m\u001b[38;5;241;43m*\u001b[39;49m\u001b[43mkwargs\u001b[49m\u001b[43m)\u001b[49m\n\u001b[1;32m   1522\u001b[0m \u001b[38;5;28;01mtry\u001b[39;00m:\n\u001b[1;32m   1523\u001b[0m     result \u001b[38;5;241m=\u001b[39m \u001b[38;5;28;01mNone\u001b[39;00m\n",
      "Cell \u001b[0;32mIn[70], line 13\u001b[0m, in \u001b[0;36mImageClassification.forward\u001b[0;34m(self, x)\u001b[0m\n\u001b[1;32m     12\u001b[0m \u001b[38;5;28;01mdef\u001b[39;00m \u001b[38;5;21mforward\u001b[39m(\u001b[38;5;28mself\u001b[39m, x):\n\u001b[0;32m---> 13\u001b[0m     \u001b[38;5;28;01mreturn\u001b[39;00m torch\u001b[38;5;241m.\u001b[39msoftmax(\u001b[38;5;28;43mself\u001b[39;49m\u001b[38;5;241;43m.\u001b[39;49m\u001b[43mneuralNetwork\u001b[49m\u001b[43m(\u001b[49m\u001b[43mx\u001b[49m\u001b[43m)\u001b[49m,dim\u001b[38;5;241m=\u001b[39m\u001b[38;5;241m1\u001b[39m)\n",
      "File \u001b[0;32m~/miniconda3/lib/python3.11/site-packages/torch/nn/modules/module.py:1511\u001b[0m, in \u001b[0;36mModule._wrapped_call_impl\u001b[0;34m(self, *args, **kwargs)\u001b[0m\n\u001b[1;32m   1509\u001b[0m     \u001b[38;5;28;01mreturn\u001b[39;00m \u001b[38;5;28mself\u001b[39m\u001b[38;5;241m.\u001b[39m_compiled_call_impl(\u001b[38;5;241m*\u001b[39margs, \u001b[38;5;241m*\u001b[39m\u001b[38;5;241m*\u001b[39mkwargs)  \u001b[38;5;66;03m# type: ignore[misc]\u001b[39;00m\n\u001b[1;32m   1510\u001b[0m \u001b[38;5;28;01melse\u001b[39;00m:\n\u001b[0;32m-> 1511\u001b[0m     \u001b[38;5;28;01mreturn\u001b[39;00m \u001b[38;5;28;43mself\u001b[39;49m\u001b[38;5;241;43m.\u001b[39;49m\u001b[43m_call_impl\u001b[49m\u001b[43m(\u001b[49m\u001b[38;5;241;43m*\u001b[39;49m\u001b[43margs\u001b[49m\u001b[43m,\u001b[49m\u001b[43m \u001b[49m\u001b[38;5;241;43m*\u001b[39;49m\u001b[38;5;241;43m*\u001b[39;49m\u001b[43mkwargs\u001b[49m\u001b[43m)\u001b[49m\n",
      "File \u001b[0;32m~/miniconda3/lib/python3.11/site-packages/torch/nn/modules/module.py:1520\u001b[0m, in \u001b[0;36mModule._call_impl\u001b[0;34m(self, *args, **kwargs)\u001b[0m\n\u001b[1;32m   1515\u001b[0m \u001b[38;5;66;03m# If we don't have any hooks, we want to skip the rest of the logic in\u001b[39;00m\n\u001b[1;32m   1516\u001b[0m \u001b[38;5;66;03m# this function, and just call forward.\u001b[39;00m\n\u001b[1;32m   1517\u001b[0m \u001b[38;5;28;01mif\u001b[39;00m \u001b[38;5;129;01mnot\u001b[39;00m (\u001b[38;5;28mself\u001b[39m\u001b[38;5;241m.\u001b[39m_backward_hooks \u001b[38;5;129;01mor\u001b[39;00m \u001b[38;5;28mself\u001b[39m\u001b[38;5;241m.\u001b[39m_backward_pre_hooks \u001b[38;5;129;01mor\u001b[39;00m \u001b[38;5;28mself\u001b[39m\u001b[38;5;241m.\u001b[39m_forward_hooks \u001b[38;5;129;01mor\u001b[39;00m \u001b[38;5;28mself\u001b[39m\u001b[38;5;241m.\u001b[39m_forward_pre_hooks\n\u001b[1;32m   1518\u001b[0m         \u001b[38;5;129;01mor\u001b[39;00m _global_backward_pre_hooks \u001b[38;5;129;01mor\u001b[39;00m _global_backward_hooks\n\u001b[1;32m   1519\u001b[0m         \u001b[38;5;129;01mor\u001b[39;00m _global_forward_hooks \u001b[38;5;129;01mor\u001b[39;00m _global_forward_pre_hooks):\n\u001b[0;32m-> 1520\u001b[0m     \u001b[38;5;28;01mreturn\u001b[39;00m \u001b[43mforward_call\u001b[49m\u001b[43m(\u001b[49m\u001b[38;5;241;43m*\u001b[39;49m\u001b[43margs\u001b[49m\u001b[43m,\u001b[49m\u001b[43m \u001b[49m\u001b[38;5;241;43m*\u001b[39;49m\u001b[38;5;241;43m*\u001b[39;49m\u001b[43mkwargs\u001b[49m\u001b[43m)\u001b[49m\n\u001b[1;32m   1522\u001b[0m \u001b[38;5;28;01mtry\u001b[39;00m:\n\u001b[1;32m   1523\u001b[0m     result \u001b[38;5;241m=\u001b[39m \u001b[38;5;28;01mNone\u001b[39;00m\n",
      "File \u001b[0;32m~/miniconda3/lib/python3.11/site-packages/torch/nn/modules/container.py:217\u001b[0m, in \u001b[0;36mSequential.forward\u001b[0;34m(self, input)\u001b[0m\n\u001b[1;32m    215\u001b[0m \u001b[38;5;28;01mdef\u001b[39;00m \u001b[38;5;21mforward\u001b[39m(\u001b[38;5;28mself\u001b[39m, \u001b[38;5;28minput\u001b[39m):\n\u001b[1;32m    216\u001b[0m     \u001b[38;5;28;01mfor\u001b[39;00m module \u001b[38;5;129;01min\u001b[39;00m \u001b[38;5;28mself\u001b[39m:\n\u001b[0;32m--> 217\u001b[0m         \u001b[38;5;28minput\u001b[39m \u001b[38;5;241m=\u001b[39m \u001b[43mmodule\u001b[49m\u001b[43m(\u001b[49m\u001b[38;5;28;43minput\u001b[39;49m\u001b[43m)\u001b[49m\n\u001b[1;32m    218\u001b[0m     \u001b[38;5;28;01mreturn\u001b[39;00m \u001b[38;5;28minput\u001b[39m\n",
      "File \u001b[0;32m~/miniconda3/lib/python3.11/site-packages/torch/nn/modules/module.py:1511\u001b[0m, in \u001b[0;36mModule._wrapped_call_impl\u001b[0;34m(self, *args, **kwargs)\u001b[0m\n\u001b[1;32m   1509\u001b[0m     \u001b[38;5;28;01mreturn\u001b[39;00m \u001b[38;5;28mself\u001b[39m\u001b[38;5;241m.\u001b[39m_compiled_call_impl(\u001b[38;5;241m*\u001b[39margs, \u001b[38;5;241m*\u001b[39m\u001b[38;5;241m*\u001b[39mkwargs)  \u001b[38;5;66;03m# type: ignore[misc]\u001b[39;00m\n\u001b[1;32m   1510\u001b[0m \u001b[38;5;28;01melse\u001b[39;00m:\n\u001b[0;32m-> 1511\u001b[0m     \u001b[38;5;28;01mreturn\u001b[39;00m \u001b[38;5;28;43mself\u001b[39;49m\u001b[38;5;241;43m.\u001b[39;49m\u001b[43m_call_impl\u001b[49m\u001b[43m(\u001b[49m\u001b[38;5;241;43m*\u001b[39;49m\u001b[43margs\u001b[49m\u001b[43m,\u001b[49m\u001b[43m \u001b[49m\u001b[38;5;241;43m*\u001b[39;49m\u001b[38;5;241;43m*\u001b[39;49m\u001b[43mkwargs\u001b[49m\u001b[43m)\u001b[49m\n",
      "File \u001b[0;32m~/miniconda3/lib/python3.11/site-packages/torch/nn/modules/module.py:1520\u001b[0m, in \u001b[0;36mModule._call_impl\u001b[0;34m(self, *args, **kwargs)\u001b[0m\n\u001b[1;32m   1515\u001b[0m \u001b[38;5;66;03m# If we don't have any hooks, we want to skip the rest of the logic in\u001b[39;00m\n\u001b[1;32m   1516\u001b[0m \u001b[38;5;66;03m# this function, and just call forward.\u001b[39;00m\n\u001b[1;32m   1517\u001b[0m \u001b[38;5;28;01mif\u001b[39;00m \u001b[38;5;129;01mnot\u001b[39;00m (\u001b[38;5;28mself\u001b[39m\u001b[38;5;241m.\u001b[39m_backward_hooks \u001b[38;5;129;01mor\u001b[39;00m \u001b[38;5;28mself\u001b[39m\u001b[38;5;241m.\u001b[39m_backward_pre_hooks \u001b[38;5;129;01mor\u001b[39;00m \u001b[38;5;28mself\u001b[39m\u001b[38;5;241m.\u001b[39m_forward_hooks \u001b[38;5;129;01mor\u001b[39;00m \u001b[38;5;28mself\u001b[39m\u001b[38;5;241m.\u001b[39m_forward_pre_hooks\n\u001b[1;32m   1518\u001b[0m         \u001b[38;5;129;01mor\u001b[39;00m _global_backward_pre_hooks \u001b[38;5;129;01mor\u001b[39;00m _global_backward_hooks\n\u001b[1;32m   1519\u001b[0m         \u001b[38;5;129;01mor\u001b[39;00m _global_forward_hooks \u001b[38;5;129;01mor\u001b[39;00m _global_forward_pre_hooks):\n\u001b[0;32m-> 1520\u001b[0m     \u001b[38;5;28;01mreturn\u001b[39;00m \u001b[43mforward_call\u001b[49m\u001b[43m(\u001b[49m\u001b[38;5;241;43m*\u001b[39;49m\u001b[43margs\u001b[49m\u001b[43m,\u001b[49m\u001b[43m \u001b[49m\u001b[38;5;241;43m*\u001b[39;49m\u001b[38;5;241;43m*\u001b[39;49m\u001b[43mkwargs\u001b[49m\u001b[43m)\u001b[49m\n\u001b[1;32m   1522\u001b[0m \u001b[38;5;28;01mtry\u001b[39;00m:\n\u001b[1;32m   1523\u001b[0m     result \u001b[38;5;241m=\u001b[39m \u001b[38;5;28;01mNone\u001b[39;00m\n",
      "File \u001b[0;32m~/miniconda3/lib/python3.11/site-packages/torch/nn/modules/linear.py:116\u001b[0m, in \u001b[0;36mLinear.forward\u001b[0;34m(self, input)\u001b[0m\n\u001b[1;32m    115\u001b[0m \u001b[38;5;28;01mdef\u001b[39;00m \u001b[38;5;21mforward\u001b[39m(\u001b[38;5;28mself\u001b[39m, \u001b[38;5;28minput\u001b[39m: Tensor) \u001b[38;5;241m-\u001b[39m\u001b[38;5;241m>\u001b[39m Tensor:\n\u001b[0;32m--> 116\u001b[0m     \u001b[38;5;28;01mreturn\u001b[39;00m \u001b[43mF\u001b[49m\u001b[38;5;241;43m.\u001b[39;49m\u001b[43mlinear\u001b[49m\u001b[43m(\u001b[49m\u001b[38;5;28;43minput\u001b[39;49m\u001b[43m,\u001b[49m\u001b[43m \u001b[49m\u001b[38;5;28;43mself\u001b[39;49m\u001b[38;5;241;43m.\u001b[39;49m\u001b[43mweight\u001b[49m\u001b[43m,\u001b[49m\u001b[43m \u001b[49m\u001b[38;5;28;43mself\u001b[39;49m\u001b[38;5;241;43m.\u001b[39;49m\u001b[43mbias\u001b[49m\u001b[43m)\u001b[49m\n",
      "\u001b[0;31mRuntimeError\u001b[0m: mat1 and mat2 shapes cannot be multiplied (64x10 and 256x512)"
     ]
    }
   ],
   "source": [
    "LEARNING_RATE=0.001\n",
    "EPOCHS=10\n",
    "\n",
    "import torch.optim as optim\n",
    "transformer=VisionTransformer(patch_size=4,output_dimension=256,num_of_encoder_layers=4,embed_dims=256)\n",
    "# ,num_heads=8,num_classes=10)\n",
    "transformer=transformer.to(device)\n",
    "image_classifier = ImageClassification(input_dim=256, num_classes=10)\n",
    "image_classifier.to(device)\n",
    "cross_entropy_loss=nn.CrossEntropyLoss()\n",
    "optimizer=optimizer = optim.Adam(list(transformer.parameters()) + list(image_classifier.parameters()), lr=LEARNING_RATE)\n",
    "# res=transformer.createImagePatches(sample[0])\n",
    "\n",
    "# def train():\n",
    "#     for epoch in range(EPOCHS):\n",
    "#         transformer.train()\n",
    "#         loss=0\n",
    "#         for input_data,labels in train_dataloader:\n",
    "#             input_data,labels=input_data.to(device),labels.to(device)\n",
    "#             optimizer.zero_grad()\n",
    "#             output=transformer(input_data)\n",
    "#             loss=cross_entropy_loss(output,labels)\n",
    "#             loss.backward()\n",
    "#             optimizer.step()\n",
    "#             loss += loss.item() * input_data.size(0)\n",
    "#         epoch_loss = loss / len(train_dataloader.dataset)\n",
    "#         print(f\"Epoch [{epoch+1}/{EPOCHS}], Loss: {epoch_loss:.4f}\")\n",
    "\n",
    "def train():\n",
    "    for epoch in range(EPOCHS):\n",
    "        transformer.train()\n",
    "        image_classifier.train()\n",
    "        epoch_loss = 0\n",
    "        for input_data, labels in train_dataloader:\n",
    "            input_data, labels = input_data.to(device), labels.to(device)\n",
    "            optimizer.zero_grad()\n",
    "            output = transformer(input_data)\n",
    "            output = image_classifier(output)\n",
    "            loss = criterion(output, labels)\n",
    "            loss.backward()\n",
    "            optimizer.step()\n",
    "            epoch_loss += loss.item() * input_data.size(0)\n",
    "        epoch_loss /= len(train_dataloader.dataset)\n",
    "        print(f\"Epoch [{epoch+1}/{EPOCHS}], Loss: {epoch_loss:.4f}\")\n",
    "# def test():\n",
    "#     transformer.eval()\n",
    "#     correct = 0\n",
    "#     total = 0\n",
    "#     with torch.no_grad():\n",
    "#         for inputs, labels in test_dataloader:\n",
    "#             inputs, labels = inputs.to(device), labels.to(device)  # Move data to GPU\n",
    "#             outputs = transformer(inputs)\n",
    "#             _, predicted = torch.max(outputs, 1)\n",
    "#             total += labels.size(0)\n",
    "#             correct += (predicted == labels).sum().item()\n",
    "    \n",
    "#     accuracy = correct / total\n",
    "#     print(f\"Test Accuracy: {accuracy:.4f}\")\n",
    "train()\n",
    "# print(nn.Embedding(1,res))\n",
    "# classifier=ImageClassification(\n",
    "# res= res.view(BATCH_SIZE, 3, 4, 4, -1).permute(0, 4, 1, 2, 3)"
   ]
  },
  {
   "cell_type": "code",
   "execution_count": 38,
   "id": "61283b1c-ef7a-48dd-bbea-09df22e947d0",
   "metadata": {},
   "outputs": [
    {
     "name": "stdout",
     "output_type": "stream",
     "text": [
      "Test Accuracy: 0.1000\n"
     ]
    }
   ],
   "source": [
    "def test():\n",
    "    transformer.eval()\n",
    "    correct = 0\n",
    "    total = 0\n",
    "    with torch.no_grad():\n",
    "        for inputs, labels in test_dataloader:\n",
    "            inputs, labels = inputs.to(device), labels.to(device)\n",
    "            outputs = transformer(inputs)\n",
    "            _, predicted = torch.max(outputs, 1)\n",
    "            correct += torch.eq(predicted, labels).sum().item()  # Accumulate correct predictions\n",
    "            total += labels.size(0)\n",
    "    \n",
    "    accuracy = correct / total\n",
    "    print(f\"Test Accuracy: {accuracy:.4f}\")\n",
    "\n",
    "test()  # Call the test function to evaluate the model after training\n"
   ]
  },
  {
   "cell_type": "code",
   "execution_count": 111,
   "id": "0a1ec698-0834-47ef-8791-80bf4eb7b1cd",
   "metadata": {},
   "outputs": [
    {
     "name": "stdout",
     "output_type": "stream",
     "text": [
      "torch.Size([1, 48, 64])\n"
     ]
    },
    {
     "data": {
      "text/plain": [
       "<matplotlib.image.AxesImage at 0x7f453787e610>"
      ]
     },
     "execution_count": 111,
     "metadata": {},
     "output_type": "execute_result"
    },
    {
     "data": {
      "image/png": "[encoded data removed]",
      "text/plain": [
       "<Figure size 640x480 with 1 Axes>"
      ]
     },
     "metadata": {},
     "output_type": "display_data"
    }
   ],
   "source": [
    "new=VisionTransformer(patch_size=4,output_dimension=256)\n",
    "res=new.createImagePatches(image)\n",
    "# res[0][0]\n",
    "import matplotlib.pyplot as plt\n",
    "plt.imshow(res[0][0])"
   ]
  },
  {
   "cell_type": "code",
   "execution_count": 14,
   "id": "75dfb65e-0123-41ba-87df-4e51d0641a6a",
   "metadata": {},
   "outputs": [
    {
     "name": "stdout",
     "output_type": "stream",
     "text": [
      "Epoch [1/10], Loss: 1.8521\n",
      "Epoch [2/10], Loss: 1.6783\n",
      "Epoch [3/10], Loss: 1.5985\n",
      "Epoch [4/10], Loss: 1.5593\n",
      "Epoch [5/10], Loss: 1.5303\n",
      "Epoch [6/10], Loss: 1.5018\n",
      "Epoch [7/10], Loss: 1.4766\n",
      "Epoch [8/10], Loss: 1.4622\n",
      "Epoch [9/10], Loss: 1.4408\n",
      "Epoch [10/10], Loss: 1.4289\n",
      "Test Accuracy: 0.4775\n"
     ]
    }
   ],
   "source": [
    "import torch.optim as optim\n",
    "class SimpleNN(nn.Module):\n",
    "    def __init__(self, input_size, hidden_size, num_classes):\n",
    "        super(SimpleNN, self).__init__()\n",
    "        self.fc1 = nn.Linear(input_size, hidden_size)\n",
    "        self.relu = nn.ReLU()\n",
    "        self.fc2 = nn.Linear(hidden_size, num_classes)\n",
    "\n",
    "    def forward(self, x):\n",
    "        x = x.view(x.size(0), -1)  # Flatten the input tensor\n",
    "        x = self.relu(self.fc1(x))\n",
    "        x = self.fc2(x)\n",
    "        return x\n",
    "input_size = 32 * 32 * 3  # CIFAR-10 image size is 32x32x3\n",
    "hidden_size = 512\n",
    "num_classes = 10\n",
    "\n",
    "model = SimpleNN(input_size, hidden_size, num_classes)\n",
    "criterion = nn.CrossEntropyLoss()\n",
    "optimizer = optim.Adam(model.parameters(), lr=0.001)\n",
    "\n",
    "# Train the model\n",
    "num_epochs = 10\n",
    "for epoch in range(num_epochs):\n",
    "    model.train()\n",
    "    running_loss = 0.0\n",
    "    for images, labels in train_dataloader:\n",
    "        images = images.view(images.size(0), -1)  # Flatten the image tensor\n",
    "        outputs = model(images)\n",
    "        loss = criterion(outputs, labels)\n",
    "        \n",
    "        optimizer.zero_grad()\n",
    "        loss.backward()\n",
    "        optimizer.step()\n",
    "        \n",
    "        running_loss += loss.item() * images.size(0)\n",
    "    \n",
    "    epoch_loss = running_loss / len(train_dataloader.dataset)\n",
    "    print(f\"Epoch [{epoch+1}/{num_epochs}], Loss: {epoch_loss:.4f}\")\n",
    "\n",
    "# Test the model\n",
    "model.eval()\n",
    "correct = 0\n",
    "total = 0\n",
    "with torch.no_grad():\n",
    "    for images, labels in test_dataloader:\n",
    "        images = images.view(images.size(0), -1)  # Flatten the image tensor\n",
    "        outputs = model(images)\n",
    "        _, predicted = torch.max(outputs.data, 1)\n",
    "        total += labels.size(0)\n",
    "        correct += (predicted == labels).sum().item()\n",
    "\n",
    "accuracy = correct / total\n",
    "print(f\"Test Accuracy: {accuracy:.4f}\")"
   ]
  },
  {
   "cell_type": "code",
   "execution_count": null,
   "id": "2d586cd5-62f2-4c33-b3af-6a38d50c331a",
   "metadata": {},
   "outputs": [],
   "source": []
  }
 ],
 "metadata": {
  "kernelspec": {
   "display_name": "Python 3 (ipykernel)",
   "language": "python",
   "name": "python3"
  },
  "language_info": {
   "codemirror_mode": {
    "name": "ipython",
    "version": 3
   },
   "file_extension": ".py",
   "mimetype": "text/x-python",
   "name": "python",
   "nbconvert_exporter": "python",
   "pygments_lexer": "ipython3",
   "version": "3.11.5"
  }
 },
 "nbformat": 4,
 "nbformat_minor": 5
}
