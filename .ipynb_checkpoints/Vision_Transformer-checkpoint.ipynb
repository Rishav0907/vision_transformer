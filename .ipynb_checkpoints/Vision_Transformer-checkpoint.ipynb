{
 "cells": [
  {
   "cell_type": "markdown",
   "id": "94bf64b3-5388-44ad-b2a1-f1498fed59c1",
   "metadata": {},
   "source": [
    "# Vision Transformer using Pytorch"
   ]
  },
  {
   "cell_type": "code",
   "execution_count": 1,
   "id": "36886ec7-d2f8-4bc2-8352-2c7ab3d95cd9",
   "metadata": {},
   "outputs": [
    {
     "name": "stderr",
     "output_type": "stream",
     "text": [
      "/data/home1/rishavs/miniconda3/lib/python3.11/site-packages/tqdm/auto.py:21: TqdmWarning: IProgress not found. Please update jupyter and ipywidgets. See https://ipywidgets.readthedocs.io/en/stable/user_install.html\n",
      "  from .autonotebook import tqdm as notebook_tqdm\n"
     ]
    }
   ],
   "source": [
    "import torch\n",
    "import torch.nn as nn\n",
    "import torchvision.datasets as dataset\n",
    "from torch.utils.data import DataLoader\n",
    "from torchvision.transforms import ToTensor"
   ]
  },
  {
   "cell_type": "code",
   "execution_count": 15,
   "id": "dfdafd16-acfe-4f43-9b23-9aa537337a0b",
   "metadata": {},
   "outputs": [],
   "source": [
    "class ImageClassification(nn.Module):\n",
    "    def __init__(self, input_dim, num_classes):\n",
    "        super().__init__()\n",
    "        # self.fc1 = nn.Linear(input_dim, 512)\n",
    "        # self.fc2 = nn.Linear(512, num_classes)\n",
    "        # self.relu = nn.ReLU()\n",
    "        self.neuralNetwork=nn.Sequential(nn.Linear(input_dim,512),\n",
    "                                         nn.ReLU(),\n",
    "                                         nn.Linear(512,num_classes)\n",
    "                                        )\n",
    "                                         \n",
    "    def forward(self, x):\n",
    "        return self.neuralNetwork(x)"
   ]
  },
  {
   "cell_type": "code",
   "execution_count": 47,
   "id": "7f660b8c-d857-4eaf-baba-7f05051dd42b",
   "metadata": {},
   "outputs": [],
   "source": [
    "class VisionTransformer(nn.Module):\n",
    "    def __init__(self,patch_size,output_dimension,num_of_encoder_layers,embed_dims):\n",
    "        super().__init__()\n",
    "        self.patch_size=patch_size\n",
    "        self.linear_output_dimesnion=output_dimension\n",
    "        self.num_of_encoder_layers=num_of_encoder_layers\n",
    "        self.embed_dims=embed_dims\n",
    "        self.num_heads=8\n",
    "        # patch extractor\n",
    "        self.unfold=nn.Unfold(kernel_size=self.patch_size,stride=self.patch_size)\n",
    "\n",
    "        # making each patch linear\n",
    "        self.linear=nn.Linear(self.patch_size*self.patch_size*3,output_dimension)\n",
    "        self.encoder_layer=nn.TransformerEncoderLayer( d_model=self.embed_dims, nhead=self.num_heads, dim_feedforward=2048)\n",
    "        self.transformer_encoder=nn.TransformerEncoder(self.encoder_layer,num_layers=self.num_of_encoder_layers)\n",
    "\n",
    "        self.classifier = ImageClassification(self.embed_dims, 10)\n",
    "\n",
    "    def createImagePatches(self,input_image):\n",
    "        # print(input_image)\n",
    "        batch_size,channel,height,width=input_image.shape\n",
    "        patched_image=self.unfold(input_image).permute(0,2,1)\n",
    "        print(patched_image.shape)\n",
    "        linear_embeddings=self.linear(patched_image)\n",
    "        encoder_output=self.transformer_encoder(linear_embeddings)\n",
    "        mean_encoder_output=torch.mean(encoder_output,dim=1)\n",
    "        output = self.classifier(mean_encoder_output)\n",
    "\n",
    "        return output"
   ]
  },
  {
   "cell_type": "code",
   "execution_count": 26,
   "id": "5c668389-edc0-441c-9efe-8c270bf5f207",
   "metadata": {},
   "outputs": [
    {
     "name": "stdout",
     "output_type": "stream",
     "text": [
      "Files already downloaded and verified\n"
     ]
    }
   ],
   "source": [
    "train_data=dataset.CIFAR10(\n",
    "    'train_data',\n",
    "    train=True,\n",
    "    download=True,\n",
    "    transform=ToTensor()\n",
    ")"
   ]
  },
  {
   "cell_type": "code",
   "execution_count": 27,
   "id": "5f7735e9-008b-4f8a-b4ce-1569bf4a8ea8",
   "metadata": {},
   "outputs": [
    {
     "name": "stdout",
     "output_type": "stream",
     "text": [
      "Files already downloaded and verified\n"
     ]
    }
   ],
   "source": [
    "test_data=dataset.CIFAR10(\n",
    "    'test_data',\n",
    "    train=False,\n",
    "    download=True,\n",
    "    transform=ToTensor()\n",
    ")"
   ]
  },
  {
   "cell_type": "code",
   "execution_count": 28,
   "id": "4fb9c474-5863-400f-87b4-8d1458e5b503",
   "metadata": {},
   "outputs": [
    {
     "data": {
      "text/plain": [
       "Dataset CIFAR10\n",
       "    Number of datapoints: 50000\n",
       "    Root location: train_data\n",
       "    Split: Train\n",
       "    StandardTransform\n",
       "Transform: ToTensor()"
      ]
     },
     "execution_count": 28,
     "metadata": {},
     "output_type": "execute_result"
    }
   ],
   "source": [
    "train_data"
   ]
  },
  {
   "cell_type": "code",
   "execution_count": 29,
   "id": "fbca9268-f166-4438-86df-98017a5cff4b",
   "metadata": {},
   "outputs": [],
   "source": [
    "BATCH_SIZE=64\n",
    "train_dataloader=DataLoader(train_data,batch_size=BATCH_SIZE,shuffle=True)\n",
    "test_dataloader=DataLoader(test_data,batch_size=BATCH_SIZE,shuffle=True)"
   ]
  },
  {
   "cell_type": "code",
   "execution_count": 30,
   "id": "ad32c9ce-11ac-4a34-b709-d866973ceeaa",
   "metadata": {},
   "outputs": [],
   "source": [
    "sample=next(iter(train_dataloader))\n",
    "image=sample[0][0]\n",
    "label=sample[1][0]\n",
    "# import matplotlib.pyplot as plt\n",
    "# plt.imshow(np.transpose(image,(1,2,0)))"
   ]
  },
  {
   "cell_type": "code",
   "execution_count": 31,
   "id": "29f2df41-5cac-46e2-b08d-c92f42ae8de8",
   "metadata": {},
   "outputs": [],
   "source": [
    "image=image.unsqueeze(0)"
   ]
  },
  {
   "cell_type": "code",
   "execution_count": 48,
   "id": "9c78a6ff-b914-459d-ba83-300c84d2f2f9",
   "metadata": {},
   "outputs": [
    {
     "name": "stderr",
     "output_type": "stream",
     "text": [
      "/data/home1/rishavs/miniconda3/lib/python3.11/site-packages/torch/nn/modules/transformer.py:286: UserWarning: enable_nested_tensor is True, but self.use_nested_tensor is False because encoder_layer.self_attn.batch_first was not True(use batch_first for better inference performance)\n",
      "  warnings.warn(f\"enable_nested_tensor is True, but self.use_nested_tensor is False because {why_not_sparsity_fast_path}\")\n"
     ]
    },
    {
     "name": "stdout",
     "output_type": "stream",
     "text": [
      "torch.Size([64, 64, 48])\n"
     ]
    },
    {
     "data": {
      "text/plain": [
       "tensor([[ 0.3250,  0.1434, -0.0385,  0.0309,  0.0998, -0.2537, -0.1838, -0.1608,\n",
       "          0.3782,  0.0707],\n",
       "        [ 0.3861,  0.1187, -0.0407,  0.0438,  0.0973, -0.2270, -0.1474, -0.1894,\n",
       "          0.3655,  0.0368],\n",
       "        [ 0.3432,  0.1217, -0.0454,  0.0450,  0.1076, -0.2455, -0.1672, -0.1600,\n",
       "          0.3683,  0.0652],\n",
       "        [ 0.2719,  0.1417, -0.0375,  0.0196,  0.1006, -0.2699, -0.2215, -0.1376,\n",
       "          0.3805,  0.0463],\n",
       "        [ 0.3247,  0.1378, -0.0172,  0.0281,  0.0849, -0.2752, -0.1737, -0.1671,\n",
       "          0.3796,  0.0511],\n",
       "        [ 0.3811,  0.1086, -0.0437,  0.0661,  0.0982, -0.2228, -0.1391, -0.1889,\n",
       "          0.3741,  0.0591],\n",
       "        [ 0.4000,  0.1046, -0.0287,  0.0554,  0.0996, -0.1954, -0.1780, -0.1604,\n",
       "          0.3717,  0.0529],\n",
       "        [ 0.3141,  0.1303, -0.0343,  0.0345,  0.0777, -0.2752, -0.1859, -0.1659,\n",
       "          0.3775,  0.0522],\n",
       "        [ 0.3784,  0.1158, -0.0524,  0.0588,  0.1103, -0.2358, -0.1623, -0.1912,\n",
       "          0.3861,  0.0697],\n",
       "        [ 0.3626,  0.1115, -0.0448,  0.0465,  0.0914, -0.2375, -0.1616, -0.1759,\n",
       "          0.3731,  0.0617],\n",
       "        [ 0.3881,  0.1403, -0.0120,  0.0485,  0.0761, -0.2159, -0.1739, -0.1777,\n",
       "          0.3700,  0.0289],\n",
       "        [ 0.3373,  0.1394, -0.0451,  0.0471,  0.1051, -0.2488, -0.1853, -0.1680,\n",
       "          0.3765,  0.0610],\n",
       "        [ 0.3557,  0.1157, -0.0514,  0.0370,  0.1035, -0.2408, -0.1587, -0.1767,\n",
       "          0.3801,  0.0484],\n",
       "        [ 0.3981,  0.1056, -0.0404,  0.0621,  0.0913, -0.2061, -0.1498, -0.1933,\n",
       "          0.3685,  0.0556],\n",
       "        [ 0.3716,  0.1177, -0.0453,  0.0523,  0.0982, -0.2191, -0.1553, -0.1915,\n",
       "          0.3664,  0.0595],\n",
       "        [ 0.3627,  0.1258, -0.0466,  0.0612,  0.1028, -0.2158, -0.1705, -0.1958,\n",
       "          0.3589,  0.0636],\n",
       "        [ 0.4014,  0.1036, -0.0423,  0.0607,  0.0783, -0.2160, -0.1608, -0.1920,\n",
       "          0.3698,  0.0469],\n",
       "        [ 0.3261,  0.1318, -0.0317,  0.0358,  0.0973, -0.2573, -0.1797, -0.1428,\n",
       "          0.3682,  0.0558],\n",
       "        [ 0.3428,  0.1224, -0.0391,  0.0433,  0.0964, -0.2507, -0.1747, -0.1516,\n",
       "          0.3736,  0.0554],\n",
       "        [ 0.4045,  0.1010, -0.0332,  0.0563,  0.1010, -0.2045, -0.1484, -0.1746,\n",
       "          0.3650,  0.0721],\n",
       "        [ 0.3605,  0.1160, -0.0295,  0.0532,  0.1038, -0.2409, -0.1757, -0.1726,\n",
       "          0.3658,  0.0572],\n",
       "        [ 0.3200,  0.1333, -0.0462,  0.0446,  0.1055, -0.2612, -0.1882, -0.1742,\n",
       "          0.3743,  0.0551],\n",
       "        [ 0.3797,  0.1208, -0.0372,  0.0545,  0.0860, -0.2413, -0.1716, -0.1863,\n",
       "          0.3776,  0.0390],\n",
       "        [ 0.3048,  0.1223, -0.0266,  0.0292,  0.0875, -0.2829, -0.1767, -0.1701,\n",
       "          0.3798,  0.0667],\n",
       "        [ 0.3191,  0.1375, -0.0217,  0.0452,  0.0948, -0.2829, -0.1785, -0.1630,\n",
       "          0.3770,  0.0509],\n",
       "        [ 0.3440,  0.1202, -0.0364,  0.0382,  0.0963, -0.2493, -0.1721, -0.1678,\n",
       "          0.3728,  0.0533],\n",
       "        [ 0.4241,  0.1124, -0.0308,  0.0500,  0.0939, -0.1837, -0.1639, -0.2038,\n",
       "          0.3703,  0.0573],\n",
       "        [ 0.3512,  0.1196, -0.0493,  0.0463,  0.0983, -0.2342, -0.1737, -0.1881,\n",
       "          0.3767,  0.0445],\n",
       "        [ 0.2781,  0.1535, -0.0398,  0.0344,  0.0972, -0.2734, -0.2213, -0.1394,\n",
       "          0.3900,  0.0602],\n",
       "        [ 0.3418,  0.1273, -0.0412,  0.0448,  0.0790, -0.2856, -0.1889, -0.1549,\n",
       "          0.3744,  0.0630],\n",
       "        [ 0.3727,  0.1097, -0.0390,  0.0503,  0.0926, -0.2372, -0.1652, -0.1640,\n",
       "          0.3727,  0.0658],\n",
       "        [ 0.3442,  0.1253, -0.0437,  0.0394,  0.0982, -0.2623, -0.1629, -0.1648,\n",
       "          0.3779,  0.0573],\n",
       "        [ 0.3346,  0.1263, -0.0572,  0.0498,  0.1003, -0.2347, -0.1836, -0.1552,\n",
       "          0.3676,  0.0652],\n",
       "        [ 0.3698,  0.1167, -0.0453,  0.0566,  0.0941, -0.2326, -0.1637, -0.1815,\n",
       "          0.3776,  0.0545],\n",
       "        [ 0.3764,  0.1081, -0.0414,  0.0507,  0.0983, -0.2207, -0.1674, -0.1855,\n",
       "          0.3855,  0.0389],\n",
       "        [ 0.3296,  0.1369, -0.0354,  0.0392,  0.1008, -0.2534, -0.1974, -0.1560,\n",
       "          0.3721,  0.0446],\n",
       "        [ 0.2852,  0.1327, -0.0400,  0.0321,  0.1005, -0.2738, -0.2145, -0.1452,\n",
       "          0.3789,  0.0551],\n",
       "        [ 0.3446,  0.1083, -0.0483,  0.0528,  0.0870, -0.2287, -0.1648, -0.1685,\n",
       "          0.3717,  0.0651],\n",
       "        [ 0.3483,  0.1237, -0.0409,  0.0457,  0.0878, -0.2604, -0.1838, -0.1633,\n",
       "          0.3814,  0.0584],\n",
       "        [ 0.3588,  0.1137, -0.0572,  0.0384,  0.1121, -0.2543, -0.1922, -0.1558,\n",
       "          0.3770,  0.0597],\n",
       "        [ 0.3184,  0.1357, -0.0023,  0.0426,  0.0626, -0.2925, -0.1767, -0.1875,\n",
       "          0.3783,  0.0340],\n",
       "        [ 0.3508,  0.1118, -0.0388,  0.0450,  0.0972, -0.2532, -0.1525, -0.1838,\n",
       "          0.3776,  0.0543],\n",
       "        [ 0.3155,  0.1429, -0.0371,  0.0584,  0.0890, -0.2833, -0.1904, -0.1688,\n",
       "          0.3698,  0.0423],\n",
       "        [ 0.3536,  0.1127, -0.0311,  0.0307,  0.1062, -0.2464, -0.1545, -0.1560,\n",
       "          0.3745,  0.0732],\n",
       "        [ 0.3481,  0.1287, -0.0449,  0.0622,  0.1084, -0.2211, -0.1580, -0.1849,\n",
       "          0.3643,  0.0517],\n",
       "        [ 0.4075,  0.0862, -0.0392,  0.0615,  0.0894, -0.1985, -0.1459, -0.1764,\n",
       "          0.3721,  0.0672],\n",
       "        [ 0.3215,  0.1263, -0.0210,  0.0393,  0.0840, -0.2707, -0.1657, -0.1876,\n",
       "          0.3747,  0.0493],\n",
       "        [ 0.3310,  0.1294, -0.0299,  0.0425,  0.0976, -0.2740, -0.1923, -0.1506,\n",
       "          0.3799,  0.0536],\n",
       "        [ 0.2849,  0.1315, -0.0142,  0.0200,  0.0596, -0.2933, -0.1956, -0.1665,\n",
       "          0.3959,  0.0448],\n",
       "        [ 0.3296,  0.1312, -0.0334,  0.0350,  0.1059, -0.2688, -0.1829, -0.1730,\n",
       "          0.3796,  0.0558],\n",
       "        [ 0.3271,  0.1142, -0.0445,  0.0562,  0.1055, -0.2621, -0.1955, -0.1542,\n",
       "          0.3744,  0.0617],\n",
       "        [ 0.3212,  0.1367, -0.0277,  0.0476,  0.0941, -0.2654, -0.1907, -0.1704,\n",
       "          0.3726,  0.0493],\n",
       "        [ 0.3414,  0.1275, -0.0424,  0.0293,  0.0967, -0.2471, -0.1645, -0.1745,\n",
       "          0.3834,  0.0534],\n",
       "        [ 0.3459,  0.1087, -0.0209,  0.0321,  0.0897, -0.2479, -0.1831, -0.1622,\n",
       "          0.3807,  0.0548],\n",
       "        [ 0.3884,  0.1196, -0.0424,  0.0556,  0.0908, -0.2308, -0.1665, -0.1880,\n",
       "          0.3768,  0.0324],\n",
       "        [ 0.3135,  0.1392, -0.0280,  0.0328,  0.0830, -0.2776, -0.1672, -0.1852,\n",
       "          0.3807,  0.0501],\n",
       "        [ 0.3615,  0.1127, -0.0517,  0.0425,  0.0977, -0.2567, -0.1577, -0.1713,\n",
       "          0.3740,  0.0640],\n",
       "        [ 0.3849,  0.1222, -0.0425,  0.0475,  0.1163, -0.2300, -0.1765, -0.1929,\n",
       "          0.3637,  0.0496],\n",
       "        [ 0.3420,  0.1370, -0.0407,  0.0368,  0.0904, -0.2564, -0.1711, -0.1754,\n",
       "          0.3822,  0.0510],\n",
       "        [ 0.3407,  0.1378, -0.0356,  0.0438,  0.1084, -0.2376, -0.1747, -0.1702,\n",
       "          0.3644,  0.0441],\n",
       "        [ 0.3105,  0.1425, -0.0184,  0.0313,  0.0816, -0.2698, -0.1724, -0.1644,\n",
       "          0.3884,  0.0430],\n",
       "        [ 0.3692,  0.1176, -0.0498,  0.0477,  0.1054, -0.2538, -0.1709, -0.1700,\n",
       "          0.3815,  0.0444],\n",
       "        [ 0.3911,  0.1108, -0.0354,  0.0651,  0.1045, -0.2061, -0.1538, -0.1950,\n",
       "          0.3651,  0.0627],\n",
       "        [ 0.3298,  0.1268, -0.0138,  0.0392,  0.1060, -0.2488, -0.1719, -0.1781,\n",
       "          0.3770,  0.0421]], grad_fn=<AddmmBackward0>)"
      ]
     },
     "execution_count": 48,
     "metadata": {},
     "output_type": "execute_result"
    }
   ],
   "source": [
    "transformer=VisionTransformer(patch_size=4,output_dimension=256,num_of_encoder_layers=4,embed_dims=256)\n",
    "res=transformer.createImagePatches(sample[0])\n",
    "res\n",
    "# print(nn.Embedding(1,res))\n",
    "# classifier=ImageClassification(\n",
    "# res= res.view(BATCH_SIZE, 3, 4, 4, -1).permute(0, 4, 1, 2, 3)"
   ]
  },
  {
   "cell_type": "code",
   "execution_count": 111,
   "id": "0a1ec698-0834-47ef-8791-80bf4eb7b1cd",
   "metadata": {},
   "outputs": [
    {
     "name": "stdout",
     "output_type": "stream",
     "text": [
      "torch.Size([1, 48, 64])\n"
     ]
    },
    {
     "data": {
      "text/plain": [
       "<matplotlib.image.AxesImage at 0x7f453787e610>"
      ]
     },
     "execution_count": 111,
     "metadata": {},
     "output_type": "execute_result"
    },
    {
     "data": {
      "image/png": "[encoded data removed]",
      "text/plain": [
       "<Figure size 640x480 with 1 Axes>"
      ]
     },
     "metadata": {},
     "output_type": "display_data"
    }
   ],
   "source": [
    "new=VisionTransformer(patch_size=4,output_dimension=256)\n",
    "res=new.createImagePatches(image)\n",
    "# res[0][0]\n",
    "import matplotlib.pyplot as plt\n",
    "plt.imshow(res[0][0])"
   ]
  },
  {
   "cell_type": "code",
   "execution_count": null,
   "id": "75dfb65e-0123-41ba-87df-4e51d0641a6a",
   "metadata": {},
   "outputs": [],
   "source": [
    "# import matplotlib.pyplot as plt\n",
    "# from mpl_toolkits.axes_grid1 import ImageGrid\n",
    "# def plot_patches(tensor):\n",
    "#     fig = plt.figure(figsize=(8, 8))\n",
    "#     grid = ImageGrid(fig, 111, nrows_ncols=(4, 4), axes_pad=0.1)\n",
    "\n",
    "#     for i, ax in enumerate(grid):\n",
    "#         patch = tensor[i].permute(1, 2, 0).numpy() \n",
    "#         ax.imshow(patch)\n",
    "#         ax.axis('off')\n",
    "\n",
    "#     plt.show()\n",
    "\n",
    "# plot_patches(res.squeeze())"
   ]
  },
  {
   "cell_type": "code",
   "execution_count": null,
   "id": "2d586cd5-62f2-4c33-b3af-6a38d50c331a",
   "metadata": {},
   "outputs": [],
   "source": []
  }
 ],
 "metadata": {
  "kernelspec": {
   "display_name": "Python 3 (ipykernel)",
   "language": "python",
   "name": "python3"
  },
  "language_info": {
   "codemirror_mode": {
    "name": "ipython",
    "version": 3
   },
   "file_extension": ".py",
   "mimetype": "text/x-python",
   "name": "python",
   "nbconvert_exporter": "python",
   "pygments_lexer": "ipython3",
   "version": "3.11.5"
  }
 },
 "nbformat": 4,
 "nbformat_minor": 5
}
